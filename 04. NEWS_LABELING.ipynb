{
 "cells": [
  {
   "cell_type": "code",
   "execution_count": 1,
   "id": "384ec919",
   "metadata": {},
   "outputs": [
    {
     "name": "stderr",
     "output_type": "stream",
     "text": [
      "/opt/miniconda3/envs/asia/lib/python3.9/site-packages/tqdm/auto.py:21: TqdmWarning: IProgress not found. Please update jupyter and ipywidgets. See https://ipywidgets.readthedocs.io/en/stable/user_install.html\n",
      "  from .autonotebook import tqdm as notebook_tqdm\n"
     ]
    }
   ],
   "source": [
    "from transformers import pipeline\n",
    "import pandas as pd\n",
    "import tensorflow"
   ]
  },
  {
   "cell_type": "code",
   "execution_count": null,
   "id": "f99652ce",
   "metadata": {},
   "outputs": [],
   "source": [
    "#pip install transformers\n",
    "#pip install tf-keras"
   ]
  },
  {
   "cell_type": "code",
   "execution_count": 2,
   "id": "dfc27a5e",
   "metadata": {},
   "outputs": [],
   "source": [
    "kor_clf_sentiment = pipeline(\"sentiment-analysis\", \"snunlp/KR-FinBert-SC\")"
   ]
  },
  {
   "cell_type": "code",
   "execution_count": 3,
   "id": "cee727f7",
   "metadata": {},
   "outputs": [
    {
     "data": {
      "text/html": [
       "<div>\n",
       "<style scoped>\n",
       "    .dataframe tbody tr th:only-of-type {\n",
       "        vertical-align: middle;\n",
       "    }\n",
       "\n",
       "    .dataframe tbody tr th {\n",
       "        vertical-align: top;\n",
       "    }\n",
       "\n",
       "    .dataframe thead th {\n",
       "        text-align: right;\n",
       "    }\n",
       "</style>\n",
       "<table border=\"1\" class=\"dataframe\">\n",
       "  <thead>\n",
       "    <tr style=\"text-align: right;\">\n",
       "      <th></th>\n",
       "      <th>제목</th>\n",
       "      <th>날짜</th>\n",
       "    </tr>\n",
       "  </thead>\n",
       "  <tbody>\n",
       "    <tr>\n",
       "      <th>0</th>\n",
       "      <td>반도체 위기론 속 충칭 SK하이닉스 방문한 이낙연 총리</td>\n",
       "      <td>2019.03.30.</td>\n",
       "    </tr>\n",
       "    <tr>\n",
       "      <th>1</th>\n",
       "      <td>이낙연 국무총리, SK하이닉스 충칭공장 방문</td>\n",
       "      <td>2019.03.29.</td>\n",
       "    </tr>\n",
       "    <tr>\n",
       "      <th>2</th>\n",
       "      <td>SK하이닉스 '1.2兆 상생플랜' 나왔다</td>\n",
       "      <td>2019.03.28.</td>\n",
       "    </tr>\n",
       "    <tr>\n",
       "      <th>3</th>\n",
       "      <td>용인 반도체 클러스터 승인...SK하이닉스 \"환영”</td>\n",
       "      <td>2019.03.27.</td>\n",
       "    </tr>\n",
       "    <tr>\n",
       "      <th>4</th>\n",
       "      <td>SK하이닉스 용인 반도체 공장 설립 가속도</td>\n",
       "      <td>2019.03.27.</td>\n",
       "    </tr>\n",
       "    <tr>\n",
       "      <th>...</th>\n",
       "      <td>...</td>\n",
       "      <td>...</td>\n",
       "    </tr>\n",
       "    <tr>\n",
       "      <th>16299</th>\n",
       "      <td>코스피 주간 외국인 순매수 1위 ‘SK하이닉스’</td>\n",
       "      <td>2024.02.25.</td>\n",
       "    </tr>\n",
       "    <tr>\n",
       "      <th>16300</th>\n",
       "      <td>2월 외국인·기관 투자 종목은?...현대차·SK하이닉스</td>\n",
       "      <td>2024.02.25.</td>\n",
       "    </tr>\n",
       "    <tr>\n",
       "      <th>16301</th>\n",
       "      <td>[이번주 관심주] SK하이닉스는 뜨는데...소외된 삼성전자, 언제쯤 반등할까</td>\n",
       "      <td>2024.02.25.</td>\n",
       "    </tr>\n",
       "    <tr>\n",
       "      <th>16302</th>\n",
       "      <td>코스피 주간 개인 순매도 1위 ‘SK하이닉스’</td>\n",
       "      <td>2024.02.25.</td>\n",
       "    </tr>\n",
       "    <tr>\n",
       "      <th>16303</th>\n",
       "      <td>2/23 외국인 순매수 상위 종목 기술력, '고평가' SK하이닉스·알테오젠·삼성...</td>\n",
       "      <td>2024.02.25.</td>\n",
       "    </tr>\n",
       "  </tbody>\n",
       "</table>\n",
       "<p>16304 rows × 2 columns</p>\n",
       "</div>"
      ],
      "text/plain": [
       "                                                    제목           날짜\n",
       "0                       반도체 위기론 속 충칭 SK하이닉스 방문한 이낙연 총리  2019.03.30.\n",
       "1                             이낙연 국무총리, SK하이닉스 충칭공장 방문  2019.03.29.\n",
       "2                               SK하이닉스 '1.2兆 상생플랜' 나왔다  2019.03.28.\n",
       "3                         용인 반도체 클러스터 승인...SK하이닉스 \"환영”  2019.03.27.\n",
       "4                              SK하이닉스 용인 반도체 공장 설립 가속도  2019.03.27.\n",
       "...                                                ...          ...\n",
       "16299                       코스피 주간 외국인 순매수 1위 ‘SK하이닉스’  2024.02.25.\n",
       "16300                   2월 외국인·기관 투자 종목은?...현대차·SK하이닉스  2024.02.25.\n",
       "16301       [이번주 관심주] SK하이닉스는 뜨는데...소외된 삼성전자, 언제쯤 반등할까  2024.02.25.\n",
       "16302                        코스피 주간 개인 순매도 1위 ‘SK하이닉스’  2024.02.25.\n",
       "16303  2/23 외국인 순매수 상위 종목 기술력, '고평가' SK하이닉스·알테오젠·삼성...  2024.02.25.\n",
       "\n",
       "[16304 rows x 2 columns]"
      ]
     },
     "execution_count": 3,
     "metadata": {},
     "output_type": "execute_result"
    }
   ],
   "source": [
    "df = pd.read_excel('./baf/skhynix.xlsx')\n",
    "df"
   ]
  },
  {
   "cell_type": "code",
   "execution_count": 5,
   "id": "693437b5",
   "metadata": {},
   "outputs": [
    {
     "data": {
      "text/html": [
       "<div>\n",
       "<style scoped>\n",
       "    .dataframe tbody tr th:only-of-type {\n",
       "        vertical-align: middle;\n",
       "    }\n",
       "\n",
       "    .dataframe tbody tr th {\n",
       "        vertical-align: top;\n",
       "    }\n",
       "\n",
       "    .dataframe thead th {\n",
       "        text-align: right;\n",
       "    }\n",
       "</style>\n",
       "<table border=\"1\" class=\"dataframe\">\n",
       "  <thead>\n",
       "    <tr style=\"text-align: right;\">\n",
       "      <th></th>\n",
       "      <th>제목</th>\n",
       "      <th>날짜</th>\n",
       "    </tr>\n",
       "  </thead>\n",
       "  <tbody>\n",
       "    <tr>\n",
       "      <th>0</th>\n",
       "      <td>반도체 위기론 속 충칭 SK하이닉스 방문한 이낙연 총리</td>\n",
       "      <td>2019.03.30.</td>\n",
       "    </tr>\n",
       "    <tr>\n",
       "      <th>1</th>\n",
       "      <td>이낙연 국무총리, SK하이닉스 충칭공장 방문</td>\n",
       "      <td>2019.03.29.</td>\n",
       "    </tr>\n",
       "    <tr>\n",
       "      <th>2</th>\n",
       "      <td>SK하이닉스 '1.2兆 상생플랜' 나왔다</td>\n",
       "      <td>2019.03.28.</td>\n",
       "    </tr>\n",
       "    <tr>\n",
       "      <th>3</th>\n",
       "      <td>용인 반도체 클러스터 승인...SK하이닉스 \"환영”</td>\n",
       "      <td>2019.03.27.</td>\n",
       "    </tr>\n",
       "    <tr>\n",
       "      <th>4</th>\n",
       "      <td>SK하이닉스 용인 반도체 공장 설립 가속도</td>\n",
       "      <td>2019.03.27.</td>\n",
       "    </tr>\n",
       "  </tbody>\n",
       "</table>\n",
       "</div>"
      ],
      "text/plain": [
       "                               제목           날짜\n",
       "0  반도체 위기론 속 충칭 SK하이닉스 방문한 이낙연 총리  2019.03.30.\n",
       "1        이낙연 국무총리, SK하이닉스 충칭공장 방문  2019.03.29.\n",
       "2          SK하이닉스 '1.2兆 상생플랜' 나왔다  2019.03.28.\n",
       "3    용인 반도체 클러스터 승인...SK하이닉스 \"환영”  2019.03.27.\n",
       "4         SK하이닉스 용인 반도체 공장 설립 가속도  2019.03.27."
      ]
     },
     "execution_count": 5,
     "metadata": {},
     "output_type": "execute_result"
    }
   ],
   "source": [
    "df_copy=df.copy()\n",
    "df_copy.head()"
   ]
  },
  {
   "cell_type": "markdown",
   "id": "4ac2bd22",
   "metadata": {},
   "source": [
    "## 라벨링 실행"
   ]
  },
  {
   "cell_type": "code",
   "execution_count": 6,
   "id": "749f5d9c",
   "metadata": {},
   "outputs": [],
   "source": [
    "df_copy['label'] = df_copy['제목'].apply(lambda x: kor_clf_sentiment(x)[0]['label'])"
   ]
  },
  {
   "cell_type": "code",
   "execution_count": 7,
   "id": "3a492673",
   "metadata": {},
   "outputs": [
    {
     "data": {
      "text/html": [
       "<div>\n",
       "<style scoped>\n",
       "    .dataframe tbody tr th:only-of-type {\n",
       "        vertical-align: middle;\n",
       "    }\n",
       "\n",
       "    .dataframe tbody tr th {\n",
       "        vertical-align: top;\n",
       "    }\n",
       "\n",
       "    .dataframe thead th {\n",
       "        text-align: right;\n",
       "    }\n",
       "</style>\n",
       "<table border=\"1\" class=\"dataframe\">\n",
       "  <thead>\n",
       "    <tr style=\"text-align: right;\">\n",
       "      <th></th>\n",
       "      <th>제목</th>\n",
       "      <th>날짜</th>\n",
       "      <th>label</th>\n",
       "    </tr>\n",
       "  </thead>\n",
       "  <tbody>\n",
       "    <tr>\n",
       "      <th>0</th>\n",
       "      <td>반도체 위기론 속 충칭 SK하이닉스 방문한 이낙연 총리</td>\n",
       "      <td>2019.03.30.</td>\n",
       "      <td>neutral</td>\n",
       "    </tr>\n",
       "    <tr>\n",
       "      <th>1</th>\n",
       "      <td>이낙연 국무총리, SK하이닉스 충칭공장 방문</td>\n",
       "      <td>2019.03.29.</td>\n",
       "      <td>neutral</td>\n",
       "    </tr>\n",
       "    <tr>\n",
       "      <th>2</th>\n",
       "      <td>SK하이닉스 '1.2兆 상생플랜' 나왔다</td>\n",
       "      <td>2019.03.28.</td>\n",
       "      <td>positive</td>\n",
       "    </tr>\n",
       "    <tr>\n",
       "      <th>3</th>\n",
       "      <td>용인 반도체 클러스터 승인...SK하이닉스 \"환영”</td>\n",
       "      <td>2019.03.27.</td>\n",
       "      <td>neutral</td>\n",
       "    </tr>\n",
       "    <tr>\n",
       "      <th>4</th>\n",
       "      <td>SK하이닉스 용인 반도체 공장 설립 가속도</td>\n",
       "      <td>2019.03.27.</td>\n",
       "      <td>positive</td>\n",
       "    </tr>\n",
       "    <tr>\n",
       "      <th>...</th>\n",
       "      <td>...</td>\n",
       "      <td>...</td>\n",
       "      <td>...</td>\n",
       "    </tr>\n",
       "    <tr>\n",
       "      <th>16299</th>\n",
       "      <td>코스피 주간 외국인 순매수 1위 ‘SK하이닉스’</td>\n",
       "      <td>2024.02.25.</td>\n",
       "      <td>positive</td>\n",
       "    </tr>\n",
       "    <tr>\n",
       "      <th>16300</th>\n",
       "      <td>2월 외국인·기관 투자 종목은?...현대차·SK하이닉스</td>\n",
       "      <td>2024.02.25.</td>\n",
       "      <td>neutral</td>\n",
       "    </tr>\n",
       "    <tr>\n",
       "      <th>16301</th>\n",
       "      <td>[이번주 관심주] SK하이닉스는 뜨는데...소외된 삼성전자, 언제쯤 반등할까</td>\n",
       "      <td>2024.02.25.</td>\n",
       "      <td>positive</td>\n",
       "    </tr>\n",
       "    <tr>\n",
       "      <th>16302</th>\n",
       "      <td>코스피 주간 개인 순매도 1위 ‘SK하이닉스’</td>\n",
       "      <td>2024.02.25.</td>\n",
       "      <td>negative</td>\n",
       "    </tr>\n",
       "    <tr>\n",
       "      <th>16303</th>\n",
       "      <td>2/23 외국인 순매수 상위 종목 기술력, '고평가' SK하이닉스·알테오젠·삼성...</td>\n",
       "      <td>2024.02.25.</td>\n",
       "      <td>positive</td>\n",
       "    </tr>\n",
       "  </tbody>\n",
       "</table>\n",
       "<p>16304 rows × 3 columns</p>\n",
       "</div>"
      ],
      "text/plain": [
       "                                                    제목           날짜     label\n",
       "0                       반도체 위기론 속 충칭 SK하이닉스 방문한 이낙연 총리  2019.03.30.   neutral\n",
       "1                             이낙연 국무총리, SK하이닉스 충칭공장 방문  2019.03.29.   neutral\n",
       "2                               SK하이닉스 '1.2兆 상생플랜' 나왔다  2019.03.28.  positive\n",
       "3                         용인 반도체 클러스터 승인...SK하이닉스 \"환영”  2019.03.27.   neutral\n",
       "4                              SK하이닉스 용인 반도체 공장 설립 가속도  2019.03.27.  positive\n",
       "...                                                ...          ...       ...\n",
       "16299                       코스피 주간 외국인 순매수 1위 ‘SK하이닉스’  2024.02.25.  positive\n",
       "16300                   2월 외국인·기관 투자 종목은?...현대차·SK하이닉스  2024.02.25.   neutral\n",
       "16301       [이번주 관심주] SK하이닉스는 뜨는데...소외된 삼성전자, 언제쯤 반등할까  2024.02.25.  positive\n",
       "16302                        코스피 주간 개인 순매도 1위 ‘SK하이닉스’  2024.02.25.  negative\n",
       "16303  2/23 외국인 순매수 상위 종목 기술력, '고평가' SK하이닉스·알테오젠·삼성...  2024.02.25.  positive\n",
       "\n",
       "[16304 rows x 3 columns]"
      ]
     },
     "execution_count": 7,
     "metadata": {},
     "output_type": "execute_result"
    }
   ],
   "source": [
    "df_copy"
   ]
  },
  {
   "cell_type": "code",
   "execution_count": 8,
   "id": "1e5cc5e3",
   "metadata": {},
   "outputs": [],
   "source": [
    "df_copy.to_excel('./baf/label_skhynix.xlsx', index=False)"
   ]
  },
  {
   "cell_type": "code",
   "execution_count": 9,
   "id": "df8c1076",
   "metadata": {},
   "outputs": [
    {
     "data": {
      "text/plain": [
       "label\n",
       "positive    7837\n",
       "neutral     4287\n",
       "negative    4180\n",
       "Name: count, dtype: int64"
      ]
     },
     "execution_count": 9,
     "metadata": {},
     "output_type": "execute_result"
    }
   ],
   "source": [
    "df_copy['label'].value_counts()"
   ]
  },
  {
   "cell_type": "markdown",
   "id": "4c3a89b6",
   "metadata": {},
   "source": [
    "# 라벨 변경"
   ]
  },
  {
   "cell_type": "code",
   "execution_count": 10,
   "id": "2c414c36",
   "metadata": {},
   "outputs": [
    {
     "name": "stderr",
     "output_type": "stream",
     "text": [
      "/var/folders/jv/t8mt2tvs47d2dl3wvh8s4s3h0000gn/T/ipykernel_2254/840651920.py:2: FutureWarning: A value is trying to be set on a copy of a DataFrame or Series through chained assignment using an inplace method.\n",
      "The behavior will change in pandas 3.0. This inplace method will never work because the intermediate object on which we are setting values always behaves as a copy.\n",
      "\n",
      "For example, when doing 'df[col].method(value, inplace=True)', try using 'df.method({col: value}, inplace=True)' or df[col] = df[col].method(value) instead, to perform the operation inplace on the original object.\n",
      "\n",
      "\n",
      "  df_copy['label'].replace({'positive':1, 'neutral':0,'negative':-1 }, inplace=True)\n",
      "/var/folders/jv/t8mt2tvs47d2dl3wvh8s4s3h0000gn/T/ipykernel_2254/840651920.py:2: FutureWarning: Downcasting behavior in `replace` is deprecated and will be removed in a future version. To retain the old behavior, explicitly call `result.infer_objects(copy=False)`. To opt-in to the future behavior, set `pd.set_option('future.no_silent_downcasting', True)`\n",
      "  df_copy['label'].replace({'positive':1, 'neutral':0,'negative':-1 }, inplace=True)\n"
     ]
    },
    {
     "data": {
      "text/html": [
       "<div>\n",
       "<style scoped>\n",
       "    .dataframe tbody tr th:only-of-type {\n",
       "        vertical-align: middle;\n",
       "    }\n",
       "\n",
       "    .dataframe tbody tr th {\n",
       "        vertical-align: top;\n",
       "    }\n",
       "\n",
       "    .dataframe thead th {\n",
       "        text-align: right;\n",
       "    }\n",
       "</style>\n",
       "<table border=\"1\" class=\"dataframe\">\n",
       "  <thead>\n",
       "    <tr style=\"text-align: right;\">\n",
       "      <th></th>\n",
       "      <th>제목</th>\n",
       "      <th>날짜</th>\n",
       "      <th>label</th>\n",
       "    </tr>\n",
       "  </thead>\n",
       "  <tbody>\n",
       "    <tr>\n",
       "      <th>0</th>\n",
       "      <td>반도체 위기론 속 충칭 SK하이닉스 방문한 이낙연 총리</td>\n",
       "      <td>2019.03.30.</td>\n",
       "      <td>0</td>\n",
       "    </tr>\n",
       "    <tr>\n",
       "      <th>1</th>\n",
       "      <td>이낙연 국무총리, SK하이닉스 충칭공장 방문</td>\n",
       "      <td>2019.03.29.</td>\n",
       "      <td>0</td>\n",
       "    </tr>\n",
       "    <tr>\n",
       "      <th>2</th>\n",
       "      <td>SK하이닉스 '1.2兆 상생플랜' 나왔다</td>\n",
       "      <td>2019.03.28.</td>\n",
       "      <td>1</td>\n",
       "    </tr>\n",
       "    <tr>\n",
       "      <th>3</th>\n",
       "      <td>용인 반도체 클러스터 승인...SK하이닉스 \"환영”</td>\n",
       "      <td>2019.03.27.</td>\n",
       "      <td>0</td>\n",
       "    </tr>\n",
       "    <tr>\n",
       "      <th>4</th>\n",
       "      <td>SK하이닉스 용인 반도체 공장 설립 가속도</td>\n",
       "      <td>2019.03.27.</td>\n",
       "      <td>1</td>\n",
       "    </tr>\n",
       "    <tr>\n",
       "      <th>...</th>\n",
       "      <td>...</td>\n",
       "      <td>...</td>\n",
       "      <td>...</td>\n",
       "    </tr>\n",
       "    <tr>\n",
       "      <th>16299</th>\n",
       "      <td>코스피 주간 외국인 순매수 1위 ‘SK하이닉스’</td>\n",
       "      <td>2024.02.25.</td>\n",
       "      <td>1</td>\n",
       "    </tr>\n",
       "    <tr>\n",
       "      <th>16300</th>\n",
       "      <td>2월 외국인·기관 투자 종목은?...현대차·SK하이닉스</td>\n",
       "      <td>2024.02.25.</td>\n",
       "      <td>0</td>\n",
       "    </tr>\n",
       "    <tr>\n",
       "      <th>16301</th>\n",
       "      <td>[이번주 관심주] SK하이닉스는 뜨는데...소외된 삼성전자, 언제쯤 반등할까</td>\n",
       "      <td>2024.02.25.</td>\n",
       "      <td>1</td>\n",
       "    </tr>\n",
       "    <tr>\n",
       "      <th>16302</th>\n",
       "      <td>코스피 주간 개인 순매도 1위 ‘SK하이닉스’</td>\n",
       "      <td>2024.02.25.</td>\n",
       "      <td>-1</td>\n",
       "    </tr>\n",
       "    <tr>\n",
       "      <th>16303</th>\n",
       "      <td>2/23 외국인 순매수 상위 종목 기술력, '고평가' SK하이닉스·알테오젠·삼성...</td>\n",
       "      <td>2024.02.25.</td>\n",
       "      <td>1</td>\n",
       "    </tr>\n",
       "  </tbody>\n",
       "</table>\n",
       "<p>16304 rows × 3 columns</p>\n",
       "</div>"
      ],
      "text/plain": [
       "                                                    제목           날짜  label\n",
       "0                       반도체 위기론 속 충칭 SK하이닉스 방문한 이낙연 총리  2019.03.30.      0\n",
       "1                             이낙연 국무총리, SK하이닉스 충칭공장 방문  2019.03.29.      0\n",
       "2                               SK하이닉스 '1.2兆 상생플랜' 나왔다  2019.03.28.      1\n",
       "3                         용인 반도체 클러스터 승인...SK하이닉스 \"환영”  2019.03.27.      0\n",
       "4                              SK하이닉스 용인 반도체 공장 설립 가속도  2019.03.27.      1\n",
       "...                                                ...          ...    ...\n",
       "16299                       코스피 주간 외국인 순매수 1위 ‘SK하이닉스’  2024.02.25.      1\n",
       "16300                   2월 외국인·기관 투자 종목은?...현대차·SK하이닉스  2024.02.25.      0\n",
       "16301       [이번주 관심주] SK하이닉스는 뜨는데...소외된 삼성전자, 언제쯤 반등할까  2024.02.25.      1\n",
       "16302                        코스피 주간 개인 순매도 1위 ‘SK하이닉스’  2024.02.25.     -1\n",
       "16303  2/23 외국인 순매수 상위 종목 기술력, '고평가' SK하이닉스·알테오젠·삼성...  2024.02.25.      1\n",
       "\n",
       "[16304 rows x 3 columns]"
      ]
     },
     "execution_count": 10,
     "metadata": {},
     "output_type": "execute_result"
    }
   ],
   "source": [
    "# 라벨을 숫자로 바꾸기\n",
    "df_copy['label'].replace({'positive':1, 'neutral':0,'negative':-1 }, inplace=True)\n",
    "df_copy"
   ]
  },
  {
   "cell_type": "code",
   "execution_count": 11,
   "id": "6a4420f9",
   "metadata": {},
   "outputs": [],
   "source": [
    "df_copy.to_excel('./baf/labeled_skhynix.xlsx', index=False)"
   ]
  },
  {
   "cell_type": "markdown",
   "id": "37e06d40",
   "metadata": {},
   "source": [
    "# 날짜 없는 부분 확인"
   ]
  },
  {
   "cell_type": "code",
   "execution_count": 11,
   "id": "bfe5fcf2",
   "metadata": {},
   "outputs": [
    {
     "data": {
      "text/plain": [
       "날짜\n",
       "2019.03.01.    0.000000\n",
       "2019.03.02.    0.000000\n",
       "2019.03.03.    0.823529\n",
       "2019.03.04.    0.120000\n",
       "2019.03.05.    0.038462\n",
       "                 ...   \n",
       "2024.02.25.    0.750000\n",
       "2024.02.26.    0.200000\n",
       "2024.02.27.    0.000000\n",
       "2024.02.28.    0.181818\n",
       "2024.02.29.    0.250000\n",
       "Name: score, Length: 1677, dtype: float64"
      ]
     },
     "execution_count": 11,
     "metadata": {},
     "output_type": "execute_result"
    }
   ],
   "source": [
    "df_copy[\"score\"] = 0\n",
    "df_copy.loc[df_copy[\"label\"] == 'positive', \"score\"] = 1\n",
    "df_copy.loc[df_copy[\"label\"] == 'negative', \"score\"] = -1\n",
    "df_copy.groupby(\"날짜\")[\"score\"].mean()"
   ]
  },
  {
   "cell_type": "markdown",
   "id": "b4f89744",
   "metadata": {},
   "source": [
    "# 중복 확인"
   ]
  },
  {
   "cell_type": "code",
   "execution_count": 12,
   "id": "40156059",
   "metadata": {},
   "outputs": [
    {
     "data": {
      "text/plain": [
       "제목\n",
       "False    20422\n",
       "True         4\n",
       "Name: count, dtype: int64"
      ]
     },
     "execution_count": 12,
     "metadata": {},
     "output_type": "execute_result"
    }
   ],
   "source": [
    "df_copy['제목'].duplicated().value_counts()"
   ]
  }
 ],
 "metadata": {
  "kernelspec": {
   "display_name": "Python 3 (ipykernel)",
   "language": "python",
   "name": "python3"
  },
  "language_info": {
   "codemirror_mode": {
    "name": "ipython",
    "version": 3
   },
   "file_extension": ".py",
   "mimetype": "text/x-python",
   "name": "python",
   "nbconvert_exporter": "python",
   "pygments_lexer": "ipython3",
   "version": "3.9.18"
  },
  "toc": {
   "base_numbering": 1,
   "nav_menu": {},
   "number_sections": true,
   "sideBar": true,
   "skip_h1_title": false,
   "title_cell": "Table of Contents",
   "title_sidebar": "Contents",
   "toc_cell": false,
   "toc_position": {},
   "toc_section_display": true,
   "toc_window_display": false
  }
 },
 "nbformat": 4,
 "nbformat_minor": 5
}
